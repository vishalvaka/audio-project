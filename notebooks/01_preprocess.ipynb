{
 "cells": [
  {
   "cell_type": "code",
   "execution_count": 7,
   "id": "bf528760",
   "metadata": {},
   "outputs": [],
   "source": [
    "from __future__ import annotations\n",
    "import os, json, argparse, re, string, unicodedata\n",
    "from pathlib import Path\n",
    "from functools import partial\n",
    "from typing import Dict, List, Tuple\n",
    "from concurrent.futures import ProcessPoolExecutor\n",
    "\n",
    "import numpy as np\n",
    "import pandas as pd\n",
    "import soundfile as sf\n",
    "import torch\n",
    "import torchaudio\n",
    "from tqdm import tqdm"
   ]
  },
  {
   "cell_type": "code",
   "execution_count": 8,
   "id": "7524cf32",
   "metadata": {},
   "outputs": [],
   "source": [
    "SAMPLE_RATE = 22_050\n",
    "N_FFT       = 1024\n",
    "HOP_LENGTH  = 256\n",
    "N_MELS      = 128\n",
    "F_MIN       = 20\n",
    "F_MAX       = 10_000\n",
    "\n",
    "AUDIO_EXTS  = {\".wav\", \".flac\", \".mp3\", \".ogg\"}\n",
    "\n",
    "_taudio_cache: Dict[str, torchaudio.transforms.MelSpectrogram] = {}"
   ]
  },
  {
   "cell_type": "code",
   "execution_count": 9,
   "id": "c922b94c",
   "metadata": {},
   "outputs": [],
   "source": [
    "_clean_re = re.compile(f\"[{re.escape(string.punctuation)}]\")\n",
    "\n",
    "def clean_text(txt: str) -> str:\n",
    "    txt = unicodedata.normalize(\"NFKD\", txt).lower()\n",
    "    txt = _clean_re.sub(\"\", txt)\n",
    "    return re.sub(r\"\\s+\", \" \", txt).strip()"
   ]
  },
  {
   "cell_type": "code",
   "execution_count": 10,
   "id": "caf5c623",
   "metadata": {},
   "outputs": [],
   "source": [
    "def load_audio_any(path: Path) -> np.ndarray:\n",
    "    \"\"\"Return mono float32 @ SAMPLE_RATE using sf or torchaudio.\"\"\"\n",
    "    try:\n",
    "        audio, sr = sf.read(path, dtype=\"float32\")\n",
    "    except Exception:\n",
    "        # Fallback to torchaudio (handles MP3 via FFmpeg)\n",
    "        audio, sr = torchaudio.load(path)\n",
    "        audio = audio.mean(0).numpy()  # [channels, T] → mono\n",
    "    if sr != SAMPLE_RATE:\n",
    "        audio = torchaudio.functional.resample(torch.from_numpy(audio), sr, SAMPLE_RATE).numpy()\n",
    "    if audio.ndim > 1:\n",
    "        audio = audio.mean(axis=1)\n",
    "    return audio\n"
   ]
  },
  {
   "cell_type": "code",
   "execution_count": 11,
   "id": "e23c4a50",
   "metadata": {},
   "outputs": [],
   "source": [
    "def process_one(job: Tuple[Path, str, str, Path, Path], device: str=\"cpu\") -> Dict:\n",
    "    audio_path, track_id, text_prompt, mel_dir, data_root = job\n",
    "    try:\n",
    "        audio = load_audio_any(audio_path)\n",
    "\n",
    "        key = f\"{device}:{SAMPLE_RATE}\"\n",
    "        if key not in _taudio_cache:\n",
    "            _taudio_cache[key] = torchaudio.transforms.MelSpectrogram(\n",
    "                sample_rate=SAMPLE_RATE, n_fft=N_FFT, hop_length=HOP_LENGTH,\n",
    "                n_mels=N_MELS, f_min=F_MIN, f_max=F_MAX, power=2.0\n",
    "            ).to(device)\n",
    "        mel_spec = _taudio_cache[key](torch.from_numpy(audio).to(device))\n",
    "        mel_db   = torchaudio.functional.amplitude_to_DB(\n",
    "            mel_spec, multiplier=10.0, amin=1e-10, db_multiplier=0.0, top_db=80)\n",
    "        mel_db   = mel_db.cpu().numpy().astype(np.float32)\n",
    "\n",
    "        mel_path = mel_dir / f\"{track_id}.npy\"\n",
    "        np.save(mel_path, mel_db)\n",
    "        return {\n",
    "            \"track_id\":  track_id,\n",
    "            \"audio_path\": str(audio_path.relative_to(data_root)),\n",
    "            \"mel_path\":   str(mel_path.relative_to(mel_dir.parent)),\n",
    "            \"text\":       text_prompt,\n",
    "        }\n",
    "    except Exception as e:\n",
    "        return {\"error\": str(e), \"track_id\": track_id}"
   ]
  },
  {
   "cell_type": "code",
   "execution_count": 12,
   "id": "a880da6a",
   "metadata": {},
   "outputs": [],
   "source": [
    "def preprocess_dataset(data_root: Path, output_root: Path, workers: int, device: str):\n",
    "    output_root.mkdir(parents=True, exist_ok=True)\n",
    "    mel_dir = output_root / \"mel\"\n",
    "    mel_dir.mkdir(exist_ok=True)\n",
    "\n",
    "    meta_path = data_root / \"metadata.json\"\n",
    "    captions: Dict[str, str] = json.loads(meta_path.read_text()) if meta_path.exists() else {}\n",
    "\n",
    "    jobs: List[Tuple] = []\n",
    "    for p in data_root.rglob(\"*\"):\n",
    "        if p.suffix.lower() in AUDIO_EXTS:\n",
    "            tid  = p.stem\n",
    "            txt  = clean_text(captions.get(tid, \"unknown track\"))\n",
    "            jobs.append((p, tid, txt, mel_dir, data_root))\n",
    "\n",
    "    with ProcessPoolExecutor(max_workers=workers) as pool:\n",
    "        results = list(tqdm(pool.map(partial(process_one, device=device), jobs, chunksize=8),\n",
    "                            total=len(jobs), desc=\"Preprocessing\"))\n",
    "\n",
    "    df = pd.DataFrame([r for r in results if \"error\" not in r])\n",
    "    df.to_csv(output_root / \"metadata.csv\", index=False)\n",
    "\n",
    "    errors = [r for r in results if \"error\" in r]\n",
    "    if errors:\n",
    "        (output_root/\"errors.log\").write_text(\"\\n\".join(map(str, errors)))\n",
    "        print(f\"⚠️  {len(errors)} failures – see errors.log\")\n",
    "    print(f\"✔︎  Saved {len(df)} spectrograms → {output_root}\")"
   ]
  },
  {
   "cell_type": "code",
   "execution_count": 14,
   "id": "9680a653",
   "metadata": {},
   "outputs": [
    {
     "name": "stderr",
     "output_type": "stream",
     "text": [
      "Preprocessing:  23%|██▎       | 1833/8000 [02:16<08:09, 12.61it/s][src/libmpg123/parse.c:do_readahead():1083] warning: Cannot read next header, a one-frame stream? Duh...\n",
      "[src/libmpg123/parse.c:do_readahead():1083] warning: Cannot read next header, a one-frame stream? Duh...\n",
      "Preprocessing:  28%|██▊       | 2209/8000 [02:50<05:59, 16.12it/s][src/libmpg123/layer3.c:INT123_do_layer3():1804] error: dequantization failed!\n",
      "Preprocessing:  40%|████      | 3209/8000 [04:02<04:46, 16.72it/s]Note: Illegal Audio-MPEG-Header 0x00000000 at offset 33361.\n",
      "Note: Trying to resync...\n",
      "Note: Skipped 1024 bytes in input.\n",
      "[src/libmpg123/parse.c:wetwork():1349] error: Giving up resync after 1024 bytes - your stream is not nice... (maybe increasing resync limit could help).\n",
      "Note: Illegal Audio-MPEG-Header 0x00000000 at offset 33361.\n",
      "Note: Trying to resync...\n",
      "Note: Skipped 1024 bytes in input.\n",
      "[src/libmpg123/parse.c:wetwork():1349] error: Giving up resync after 1024 bytes - your stream is not nice... (maybe increasing resync limit could help).\n",
      "Preprocessing:  40%|████      | 3217/8000 [04:03<05:47, 13.77it/s]Note: Illegal Audio-MPEG-Header 0x00000000 at offset 22401.\n",
      "Note: Trying to resync...\n",
      "Note: Skipped 1024 bytes in input.\n",
      "[src/libmpg123/parse.c:wetwork():1349] error: Giving up resync after 1024 bytes - your stream is not nice... (maybe increasing resync limit could help).\n",
      "Note: Illegal Audio-MPEG-Header 0x00000000 at offset 22401.\n",
      "Note: Trying to resync...\n",
      "Note: Skipped 1024 bytes in input.\n",
      "[src/libmpg123/parse.c:wetwork():1349] error: Giving up resync after 1024 bytes - your stream is not nice... (maybe increasing resync limit could help).\n",
      "Preprocessing:  41%|████      | 3241/8000 [04:05<05:25, 14.61it/s][src/libmpg123/layer3.c:INT123_do_layer3():1804] error: dequantization failed!\n",
      "Note: Illegal Audio-MPEG-Header 0x00000000 at offset 63168.\n",
      "Note: Trying to resync...\n",
      "Note: Skipped 1024 bytes in input.\n",
      "[src/libmpg123/parse.c:wetwork():1349] error: Giving up resync after 1024 bytes - your stream is not nice... (maybe increasing resync limit could help).\n",
      "[src/libmpg123/layer3.c:INT123_do_layer3():1804] error: dequantization failed!\n",
      "Note: Illegal Audio-MPEG-Header 0x00000000 at offset 63168.\n",
      "Note: Trying to resync...\n",
      "Note: Skipped 1024 bytes in input.\n",
      "[src/libmpg123/parse.c:wetwork():1349] error: Giving up resync after 1024 bytes - your stream is not nice... (maybe increasing resync limit could help).\n",
      "Preprocessing:  46%|████▌     | 3641/8000 [04:47<05:44, 12.65it/s][src/libmpg123/layer3.c:INT123_do_layer3():1844] error: dequantization failed!\n",
      "Preprocessing:  61%|██████    | 4873/8000 [06:32<03:32, 14.73it/s][src/libmpg123/parse.c:do_readahead():1083] warning: Cannot read next header, a one-frame stream? Duh...\n",
      "[src/libmpg123/parse.c:do_readahead():1083] warning: Cannot read next header, a one-frame stream? Duh...\n",
      "Preprocessing:  83%|████████▎ | 6641/8000 [09:06<01:28, 15.44it/s][src/libmpg123/parse.c:do_readahead():1083] warning: Cannot read next header, a one-frame stream? Duh...\n",
      "[src/libmpg123/parse.c:do_readahead():1083] warning: Cannot read next header, a one-frame stream? Duh...\n",
      "Preprocessing:  86%|████████▌ | 6873/8000 [09:25<01:31, 12.38it/s][src/libmpg123/layer3.c:INT123_do_layer3():1804] error: dequantization failed!\n",
      "Preprocessing:  96%|█████████▌| 7697/8000 [10:28<00:12, 25.19it/s][src/libmpg123/layer3.c:INT123_do_layer3():1774] error: part2_3_length (3328) too large for available bit count (3240)\n",
      "Preprocessing:  96%|█████████▋| 7705/8000 [10:29<00:12, 23.05it/s][src/libmpg123/layer3.c:INT123_do_layer3():1774] error: part2_3_length (3360) too large for available bit count (3240)\n",
      "Preprocessing: 100%|██████████| 8000/8000 [10:49<00:00, 12.31it/s]"
     ]
    },
    {
     "name": "stdout",
     "output_type": "stream",
     "text": [
      "⚠️  6 failures – see errors.log\n",
      "✔︎  Saved 7994 spectrograms → data/processed\n"
     ]
    },
    {
     "name": "stderr",
     "output_type": "stream",
     "text": [
      "\n"
     ]
    }
   ],
   "source": [
    "data_root = Path(\"./data/raw/fma_small\")\n",
    "output_root = Path(\"./data/processed\")\n",
    "workers = 1\n",
    "device = \"cuda\"\n",
    "\n",
    "preprocess_dataset(data_root, output_root, workers, device)"
   ]
  }
 ],
 "metadata": {
  "kernelspec": {
   "display_name": ".venv",
   "language": "python",
   "name": "python3"
  },
  "language_info": {
   "codemirror_mode": {
    "name": "ipython",
    "version": 3
   },
   "file_extension": ".py",
   "mimetype": "text/x-python",
   "name": "python",
   "nbconvert_exporter": "python",
   "pygments_lexer": "ipython3",
   "version": "3.10.12"
  }
 },
 "nbformat": 4,
 "nbformat_minor": 5
}
